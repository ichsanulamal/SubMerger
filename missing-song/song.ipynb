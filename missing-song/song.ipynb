{
 "cells": [
  {
   "cell_type": "code",
   "execution_count": 31,
   "metadata": {},
   "outputs": [],
   "source": [
    "import re\n",
    "\n",
    "# Function to clean file names\n",
    "def clean_file_name(file_name):\n",
    "    # Remove invalid characters from the file name\n",
    "    cleaned_name = re.sub(r'[<>:\"/\\\\|?*]', '', file_name)\n",
    "    return cleaned_name"
   ]
  },
  {
   "cell_type": "code",
   "execution_count": 39,
   "metadata": {},
   "outputs": [
    {
     "name": "stdout",
     "output_type": "stream",
     "text": [
      "No results found for 'The Script - Before the Worst'.\n",
      "No results found for 'The Script - We Cry'.\n"
     ]
    }
   ],
   "source": [
    "import os\n",
    "import spotipy\n",
    "from spotipy.oauth2 import SpotifyClientCredentials\n",
    "from mutagen.id3 import ID3, TIT2, TPE1, TALB\n",
    "\n",
    "# Set up your Spotify API credentials\n",
    "client_id = 'f1ef4b12e36144c5a677c480f197730a'\n",
    "client_secret = 'b3783943d8b84273a8817e5f94ee234d'\n",
    "\n",
    "# Set up the Spotipy client\n",
    "client_credentials_manager = SpotifyClientCredentials(client_id=client_id, client_secret=client_secret)\n",
    "sp = spotipy.Spotify(client_credentials_manager=client_credentials_manager)\n",
    "\n",
    "# Function to update metadata\n",
    "def update_metadata(file_path):\n",
    "    # Extract song name from the file name\n",
    "    song_name = os.path.splitext(os.path.basename(file_path))[0]\n",
    "    \n",
    "    # Search for the song using the Spotify API\n",
    "    results = sp.search(q=song_name, limit=1, type='track')\n",
    "    \n",
    "    if results['tracks']['items']:\n",
    "        track = results['tracks']['items'][0]\n",
    "        \n",
    "        # Extract the relevant metadata\n",
    "        title = track['name']\n",
    "        artist = track['artists'][0]['name']\n",
    "        album = track['album']['name']\n",
    "        \n",
    "        # Update the metadata of the MP3 file\n",
    "        try:\n",
    "            audio = ID3(file_path)\n",
    "            audio['TIT2'] = TIT2(encoding=3, text=title)\n",
    "            audio['TPE1'] = TPE1(encoding=3, text=artist)\n",
    "            audio['TALB'] = TALB(encoding=3, text=album)\n",
    "            audio.save()\n",
    "        except:\n",
    "            print(f\"No results found for '{song_name}'.\")\n",
    "        \n",
    "        # Generate the new file name\n",
    "        new_file_name = f\"{artist} - {title}.mp3\"\n",
    "        new_file_name = clean_file_name(new_file_name)  # Clean the new file name\n",
    "        new_file_path = os.path.join(os.path.dirname(file_path), new_file_name)\n",
    "        \n",
    "        # Check if the new file path already exists\n",
    "        counter = 1\n",
    "        while os.path.exists(new_file_path):\n",
    "            file_name, file_extension = os.path.splitext(new_file_name)\n",
    "            new_file_name = f\"{file_name} ({counter}){file_extension}\"\n",
    "            new_file_path = os.path.join(os.path.dirname(file_path), new_file_name)\n",
    "            counter += 1\n",
    "\n",
    "        # Rename the file\n",
    "        os.rename(file_path, new_file_path)\n",
    "\n",
    "        # Store the original and new file names\n",
    "        with open('file_names_mapping.txt', 'a') as file:\n",
    "            file.write(f\"{file_name},{new_file_name}\\n\")\n",
    "\n",
    "    else:\n",
    "        print(f\"No results found for '{song_name}'.\")\n",
    "\n",
    "# Specify the root directory where your MP3 files are located\n",
    "root_directory = 'D:\\Music'\n",
    "\n",
    "# Recursively traverse the directory and update metadata and file names\n",
    "for dirpath, dirnames, filenames in os.walk(root_directory):\n",
    "    for filename in filenames:\n",
    "        if filename.endswith('.mp3'):\n",
    "            file_path = os.path.join(dirpath, filename)\n",
    "            update_metadata(file_path)\n"
   ]
  },
  {
   "cell_type": "code",
   "execution_count": 40,
   "metadata": {},
   "outputs": [],
   "source": [
    "# Undo the changes and revert the file names\n",
    "def undo_changes():\n",
    "    # Read the file_names_mapping.txt to get the original and new file names\n",
    "    with open('file_names_mapping.txt', 'r') as file:\n",
    "        mappings = file.readlines()\n",
    "\n",
    "    # Iterate through the mappings and revert the file names\n",
    "    for mapping in mappings:\n",
    "        mapping = mapping.strip().split(',')\n",
    "        original_file_name, new_file_name = mapping[0], mapping[1]\n",
    "        original_file_path = os.path.join(root_directory, original_file_name)\n",
    "        new_file_path = os.path.join(root_directory, new_file_name)\n",
    "\n",
    "        # Rename the file back to the original file name\n",
    "        os.rename(new_file_path, original_file_path)\n",
    "\n",
    "    # Remove the file_names_mapping.txt file\n",
    "    os.remove('file_names_mapping.txt')"
   ]
  }
 ],
 "metadata": {
  "kernelspec": {
   "display_name": "base",
   "language": "python",
   "name": "python3"
  },
  "language_info": {
   "codemirror_mode": {
    "name": "ipython",
    "version": 3
   },
   "file_extension": ".py",
   "mimetype": "text/x-python",
   "name": "python",
   "nbconvert_exporter": "python",
   "pygments_lexer": "ipython3",
   "version": "3.9.16"
  },
  "orig_nbformat": 4
 },
 "nbformat": 4,
 "nbformat_minor": 2
}
